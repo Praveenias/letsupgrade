{
 "cells": [
  {
   "cell_type": "code",
   "execution_count": 1,
   "metadata": {},
   "outputs": [
    {
     "name": "stdout",
     "output_type": "stream",
     "text": [
      "Hello!!! Welcome to the Deposit & Withdrawal Machine\n",
      "Enter amount to be Deposited: 2000\n",
      "Amount Deposited: 2000.0\n",
      "Enter amount to be Withdrawn: 500\n",
      "You Withdrew: 500.0\n",
      "Net Available Balance= 1500.0\n"
     ]
    }
   ],
   "source": [
    "class Bank_Account: \n",
    "    def __init__(self): \n",
    "        self.balance=0\n",
    "        print(\"Hello!!! Welcome to the Deposit & Withdrawal Machine\") \n",
    "    def deposit(self): \n",
    "        amount=float(input(\"Enter amount to be Deposited: \")) \n",
    "        self.balance += amount \n",
    "        print(\"Amount Deposited:\",amount) \n",
    "    def withdraw(self): \n",
    "        amount = float(input(\"Enter amount to be Withdrawn: \")) \n",
    "        if self.balance>=amount: \n",
    "            self.balance-=amount \n",
    "            print(\"You Withdrew:\", amount) \n",
    "        else: \n",
    "            print(\"Insufficient balance \") \n",
    "    def display(self): \n",
    "        print(\"Net Available Balance=\",self.balance) \n",
    "s = Bank_Account() \n",
    "s.deposit() \n",
    "s.withdraw() \n",
    "s.display() "
   ]
  },
  {
   "cell_type": "code",
   "execution_count": 8,
   "metadata": {},
   "outputs": [
    {
     "ename": "SyntaxError",
     "evalue": "invalid syntax (<ipython-input-8-e2e632c707c2>, line 11)",
     "output_type": "error",
     "traceback": [
      "\u001b[1;36m  File \u001b[1;32m\"<ipython-input-8-e2e632c707c2>\"\u001b[1;36m, line \u001b[1;32m11\u001b[0m\n\u001b[1;33m    cone o=cone()\u001b[0m\n\u001b[1;37m         ^\u001b[0m\n\u001b[1;31mSyntaxError\u001b[0m\u001b[1;31m:\u001b[0m invalid syntax\n"
     ]
    }
   ],
   "source": [
    "import math\n",
    "class cone:\n",
    "    def volume(r,h):\n",
    "        v=3.14*(r*r)*(h/3)\n",
    "        print(\"volume of cone:\"+v)\n",
    "    def surfacearea(r,h):\n",
    "        sa=3.14*(r*r)\n",
    "        print(\"surface area of cone is:\"+str(sa))\n",
    "        s=3.14*r*math.sqrt((r*r)+(h*h))\n",
    "        print(\"side:\"+str(s))\n",
    "o=cone()\n",
    "volume(3,4)\n",
    "surfacearea(3,4)"
   ]
  },
  {
   "cell_type": "code",
   "execution_count": null,
   "metadata": {},
   "outputs": [],
   "source": []
  }
 ],
 "metadata": {
  "kernelspec": {
   "display_name": "Python 3",
   "language": "python",
   "name": "python3"
  },
  "language_info": {
   "codemirror_mode": {
    "name": "ipython",
    "version": 3
   },
   "file_extension": ".py",
   "mimetype": "text/x-python",
   "name": "python",
   "nbconvert_exporter": "python",
   "pygments_lexer": "ipython3",
   "version": "3.7.6"
  }
 },
 "nbformat": 4,
 "nbformat_minor": 4
}
