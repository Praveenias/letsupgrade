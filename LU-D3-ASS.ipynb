{
 "cells": [
  {
   "cell_type": "markdown",
   "metadata": {},
   "source": [
    "Q-1"
   ]
  },
  {
   "cell_type": "code",
   "execution_count": 1,
   "metadata": {},
   "outputs": [
    {
     "name": "stdout",
     "output_type": "stream",
     "text": [
      "ENTER MARK: 97\n",
      "GRADE A\n"
     ]
    }
   ],
   "source": [
    "mark=int(input(\"ENTER MARK: \"))\n",
    "if (mark>=90 and mark<=100):\n",
    "    print(\"GRADE A\")\n",
    "elif(mark<90 and mark>=80):\n",
    "    print(\"GRADE B\")\n",
    "elif(mark<80 and mark>=70):\n",
    "    print(\"GRADE C\")\n",
    "elif(mark<70 and mark>=60):\n",
    "    print(\"GRADE D\")\n",
    "elif(mark<60 and mark>=50):\n",
    "    print(\"GRADE E\")\n",
    "else:\n",
    "    print(\"FAIL\")"
   ]
  },
  {
   "cell_type": "markdown",
   "metadata": {},
   "source": [
    "Q-2"
   ]
  },
  {
   "cell_type": "code",
   "execution_count": 2,
   "metadata": {},
   "outputs": [
    {
     "name": "stdout",
     "output_type": "stream",
     "text": [
      "Guess the score:40\n",
      "YOU DONT WATCH THAT MATCH!!!\n"
     ]
    }
   ],
   "source": [
    "import random\n",
    "r=random.randint(1,250)\n",
    "u=int(input(\"Guess the score:\"))\n",
    "if u<1 and u>250:\n",
    "    print(\"REDUCE YOUR EXPECTATION FOR 20-20 CRICKET!\")\n",
    "elif(u>r):\n",
    "    if(u-r)<=10:\n",
    "        print(\"CLOSEBY, YOU ARE TRUE INDIAN FAN!!!!!!\")\n",
    "    else:\n",
    "        print(\"YOU DONT WATCH THAT MATCH!!\")\n",
    "elif(r>u):\n",
    "    if(r-u)<=10:\n",
    "        print(\"CLOSEBY, YOU ARE TRUE INDIAN FAN !!!!!\")\n",
    "    else:\n",
    "        print(\"YOU DONT WATCH THAT MATCH!!!\")\n",
    "else:\n",
    "    print(\"YOU ARE RIGHT!!!\")"
   ]
  },
  {
   "cell_type": "code",
   "execution_count": null,
   "metadata": {},
   "outputs": [],
   "source": []
  }
 ],
 "metadata": {
  "kernelspec": {
   "display_name": "Python 3",
   "language": "python",
   "name": "python3"
  },
  "language_info": {
   "codemirror_mode": {
    "name": "ipython",
    "version": 3
   },
   "file_extension": ".py",
   "mimetype": "text/x-python",
   "name": "python",
   "nbconvert_exporter": "python",
   "pygments_lexer": "ipython3",
   "version": "3.7.6"
  }
 },
 "nbformat": 4,
 "nbformat_minor": 4
}
