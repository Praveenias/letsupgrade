{
 "cells": [
  {
   "cell_type": "markdown",
   "metadata": {},
   "source": [
    "# LIST"
   ]
  },
  {
   "cell_type": "markdown",
   "metadata": {},
   "source": [
    "CREATING A NEW LIST"
   ]
  },
  {
   "cell_type": "code",
   "execution_count": 1,
   "metadata": {},
   "outputs": [
    {
     "name": "stdout",
     "output_type": "stream",
     "text": [
      "['Dad', 'Mom', 'Sister']\n"
     ]
    }
   ],
   "source": [
    "mylist = [\"Dad\", \"Mom\", \"Sister\"]\n",
    "print(mylist)"
   ]
  },
  {
   "cell_type": "markdown",
   "metadata": {},
   "source": [
    "Printing an item of the list:"
   ]
  },
  {
   "cell_type": "code",
   "execution_count": 3,
   "metadata": {},
   "outputs": [
    {
     "name": "stdout",
     "output_type": "stream",
     "text": [
      "Mom\n"
     ]
    }
   ],
   "source": [
    "mylist = [\"Dad\", \"Mom\", \"Sister\"]\n",
    "print(mylist[1])"
   ]
  },
  {
   "cell_type": "code",
   "execution_count": 4,
   "metadata": {},
   "outputs": [
    {
     "name": "stdout",
     "output_type": "stream",
     "text": [
      "['Dad', 'Mom']\n"
     ]
    }
   ],
   "source": [
    "mylist = [\"Dad\", \"Mom\", \"Sister\"]\n",
    "print(mylist[0:2])"
   ]
  },
  {
   "cell_type": "markdown",
   "metadata": {},
   "source": [
    "#Changing the item:"
   ]
  },
  {
   "cell_type": "code",
   "execution_count": 5,
   "metadata": {},
   "outputs": [
    {
     "name": "stdout",
     "output_type": "stream",
     "text": [
      "['Dad', 'Mom', 'Sister']\n"
     ]
    }
   ],
   "source": [
    "mylist = [\"Dad\", \"Mum\", \"Sister\"]\n",
    "mylist[1] = \"Mom\"\n",
    "print(mylist)"
   ]
  },
  {
   "cell_type": "markdown",
   "metadata": {},
   "source": [
    "#Looping in the list"
   ]
  },
  {
   "cell_type": "code",
   "execution_count": 6,
   "metadata": {},
   "outputs": [
    {
     "name": "stdout",
     "output_type": "stream",
     "text": [
      "Dad\n",
      "Mom\n",
      "Sister\n"
     ]
    }
   ],
   "source": [
    "mylist = [\"Dad\", \"Mom\", \"Sister\"]\n",
    "for x in mylist:\n",
    "  print(x)"
   ]
  },
  {
   "cell_type": "markdown",
   "metadata": {},
   "source": [
    "#Checking if item exists in list"
   ]
  },
  {
   "cell_type": "code",
   "execution_count": 7,
   "metadata": {},
   "outputs": [
    {
     "name": "stdout",
     "output_type": "stream",
     "text": [
      "Yes, 'Dad' is in home\n"
     ]
    }
   ],
   "source": [
    "mylist = [\"Dad\", \"Mom\", \"Sister\"]\n",
    "if \"Dad\" in mylist:\n",
    "  print(\"Yes, 'Dad' is in home\")"
   ]
  },
  {
   "cell_type": "markdown",
   "metadata": {},
   "source": [
    "#Length of list"
   ]
  },
  {
   "cell_type": "code",
   "execution_count": 8,
   "metadata": {},
   "outputs": [
    {
     "name": "stdout",
     "output_type": "stream",
     "text": [
      "3\n"
     ]
    }
   ],
   "source": [
    "mylist = [\"Dad\", \"Mom\", \"Sister\"]\n",
    "print(len(mylist))"
   ]
  },
  {
   "cell_type": "markdown",
   "metadata": {},
   "source": [
    "#Adding item to a list"
   ]
  },
  {
   "cell_type": "code",
   "execution_count": 9,
   "metadata": {},
   "outputs": [
    {
     "name": "stdout",
     "output_type": "stream",
     "text": [
      "['Dad', 'Mom', 'Sister', 'Me']\n"
     ]
    }
   ],
   "source": [
    "mylist = [\"Dad\", \"Mom\", \"Sister\"]\n",
    "mylist.append(\"Me\")\n",
    "print(mylist)"
   ]
  },
  {
   "cell_type": "markdown",
   "metadata": {},
   "source": [
    "#Removing item from a list"
   ]
  },
  {
   "cell_type": "code",
   "execution_count": 10,
   "metadata": {},
   "outputs": [
    {
     "name": "stdout",
     "output_type": "stream",
     "text": [
      "['Dad', 'Mom', 'Sister']\n"
     ]
    }
   ],
   "source": [
    "mylist = [\"Dad\", \"Mom\", \"Sister\",\"Me\"]\n",
    "mylist.remove(\"Me\")\n",
    "print(mylist)"
   ]
  },
  {
   "cell_type": "markdown",
   "metadata": {},
   "source": [
    "#Clearing the list"
   ]
  },
  {
   "cell_type": "code",
   "execution_count": 11,
   "metadata": {},
   "outputs": [
    {
     "name": "stdout",
     "output_type": "stream",
     "text": [
      "[]\n"
     ]
    }
   ],
   "source": [
    "mylist = [\"Dad\", \"Mom\", \"Sister\"]\n",
    "mylist.clear()\n",
    "print(mylist)"
   ]
  },
  {
   "cell_type": "markdown",
   "metadata": {},
   "source": [
    "#Copying a list"
   ]
  },
  {
   "cell_type": "code",
   "execution_count": 13,
   "metadata": {},
   "outputs": [
    {
     "name": "stdout",
     "output_type": "stream",
     "text": [
      "['Dad', 'Mom', 'Sister']\n"
     ]
    }
   ],
   "source": [
    "mylist = [\"Dad\", \"Mom\", \"Sister\"]\n",
    "mylist = mylist.copy()\n",
    "print(mylist)"
   ]
  },
  {
   "cell_type": "markdown",
   "metadata": {},
   "source": [
    "#Joining two list"
   ]
  },
  {
   "cell_type": "code",
   "execution_count": 14,
   "metadata": {},
   "outputs": [
    {
     "name": "stdout",
     "output_type": "stream",
     "text": [
      "['Dad', 'Mom', 'Sister', 'Me']\n"
     ]
    }
   ],
   "source": [
    "list1 = [\"Dad\", \"Mom\"]\n",
    "list2 = [\"Sister\",\"Me\"]\n",
    "list3 = list1 + list2\n",
    "print(list3)"
   ]
  },
  {
   "cell_type": "markdown",
   "metadata": {},
   "source": [
    "#List Constructor"
   ]
  },
  {
   "cell_type": "code",
   "execution_count": 16,
   "metadata": {},
   "outputs": [
    {
     "name": "stdout",
     "output_type": "stream",
     "text": [
      "['Dad', 'Mom', 'Sister']\n"
     ]
    }
   ],
   "source": [
    "mylist = list((\"Dad\", \"Mom\", \"Sister\")) \n",
    "print(mylist)"
   ]
  },
  {
   "cell_type": "markdown",
   "metadata": {},
   "source": [
    "#Negative indexing"
   ]
  },
  {
   "cell_type": "code",
   "execution_count": 17,
   "metadata": {},
   "outputs": [
    {
     "name": "stdout",
     "output_type": "stream",
     "text": [
      "Sister\n"
     ]
    }
   ],
   "source": [
    "mylist = [\"Dad\", \"Mom\", \"Sister\"]\n",
    "print(mylist[-1])"
   ]
  },
  {
   "cell_type": "markdown",
   "metadata": {},
   "source": [
    "#Print from beginning"
   ]
  },
  {
   "cell_type": "code",
   "execution_count": 18,
   "metadata": {},
   "outputs": [
    {
     "name": "stdout",
     "output_type": "stream",
     "text": [
      "['Dad', 'Mom']\n"
     ]
    }
   ],
   "source": [
    "mylist = [\"Dad\", \"Mom\", \"Sister\"]\n",
    "print(mylist[:2])"
   ]
  },
  {
   "cell_type": "markdown",
   "metadata": {},
   "source": [
    "#Print till end"
   ]
  },
  {
   "cell_type": "code",
   "execution_count": 20,
   "metadata": {},
   "outputs": [
    {
     "name": "stdout",
     "output_type": "stream",
     "text": [
      "['Mom', 'Sister']\n"
     ]
    }
   ],
   "source": [
    "mylist = [\"Dad\", \"Mom\", \"Sister\"]\n",
    "print(mylist[1:])"
   ]
  },
  {
   "cell_type": "markdown",
   "metadata": {},
   "source": [
    "#Range of negative index"
   ]
  },
  {
   "cell_type": "code",
   "execution_count": 21,
   "metadata": {},
   "outputs": [
    {
     "name": "stdout",
     "output_type": "stream",
     "text": [
      "['Mom']\n"
     ]
    }
   ],
   "source": [
    "mylist = [\"Dad\", \"Mom\", \"Sister\"]\n",
    "print(mylist[-2:-1])"
   ]
  },
  {
   "cell_type": "markdown",
   "metadata": {},
   "source": [
    "#Insert into a list"
   ]
  },
  {
   "cell_type": "code",
   "execution_count": 23,
   "metadata": {},
   "outputs": [
    {
     "name": "stdout",
     "output_type": "stream",
     "text": [
      "['Dad', 'Mom', 'Sister', 'Me']\n"
     ]
    }
   ],
   "source": [
    "mylist = [\"Dad\", \"Mom\", \"Me\"]\n",
    "mylist.insert(2,\"Sister\")\n",
    "print(mylist)"
   ]
  },
  {
   "cell_type": "markdown",
   "metadata": {},
   "source": [
    "#Poping out from list"
   ]
  },
  {
   "cell_type": "code",
   "execution_count": 24,
   "metadata": {},
   "outputs": [
    {
     "name": "stdout",
     "output_type": "stream",
     "text": [
      "['Dad', 'Mom']\n"
     ]
    }
   ],
   "source": [
    "mylist = [\"Dad\", \"Mom\", \"Sister\"]\n",
    "mylist.pop()\n",
    "print(mylist)\n",
    "#It will remove last item when indes not specified"
   ]
  },
  {
   "cell_type": "markdown",
   "metadata": {},
   "source": [
    "#poping out from list using index value"
   ]
  },
  {
   "cell_type": "code",
   "execution_count": 28,
   "metadata": {},
   "outputs": [
    {
     "name": "stdout",
     "output_type": "stream",
     "text": [
      "['Dad', 'Sister']\n"
     ]
    }
   ],
   "source": [
    "mylist = [\"Dad\", \"Mom\", \"Sister\"]\n",
    "mylist.pop(1)\n",
    "print(mylist)"
   ]
  },
  {
   "cell_type": "markdown",
   "metadata": {},
   "source": [
    "#Deleting from a list"
   ]
  },
  {
   "cell_type": "code",
   "execution_count": 29,
   "metadata": {},
   "outputs": [
    {
     "name": "stdout",
     "output_type": "stream",
     "text": [
      "['Dad', 'Mom']\n"
     ]
    }
   ],
   "source": [
    "mylist = [\"Dad\", \"Mom\", \"Sister\"]\n",
    "del mylist[2]\n",
    "print(mylist)"
   ]
  },
  {
   "cell_type": "markdown",
   "metadata": {},
   "source": [
    "#Deleting the entire list"
   ]
  },
  {
   "cell_type": "code",
   "execution_count": 32,
   "metadata": {},
   "outputs": [],
   "source": [
    "mylist = [\"Dad\", \"Mom\", \"Sister\"]\n",
    "del mylist"
   ]
  },
  {
   "cell_type": "markdown",
   "metadata": {},
   "source": [
    "#Copying list with list() method"
   ]
  },
  {
   "cell_type": "code",
   "execution_count": 33,
   "metadata": {},
   "outputs": [
    {
     "name": "stdout",
     "output_type": "stream",
     "text": [
      "['Dad', 'Mom', 'Sister']\n"
     ]
    }
   ],
   "source": [
    "mylist = [\"Dad\", \"Mom\", \"Sister\"]\n",
    "newlist = list(mylist)\n",
    "print(mylist)"
   ]
  },
  {
   "cell_type": "markdown",
   "metadata": {},
   "source": [
    "#Appending one list with another"
   ]
  },
  {
   "cell_type": "code",
   "execution_count": 34,
   "metadata": {
    "scrolled": true
   },
   "outputs": [
    {
     "name": "stdout",
     "output_type": "stream",
     "text": [
      "['Dad', 'Mom', 'Sister', 'Me']\n"
     ]
    }
   ],
   "source": [
    "list1 = [\"Dad\", \"Mom\", \"Sister\"]\n",
    "list2 = [\"Me\"]\n",
    "\n",
    "for x in list2:\n",
    "    list1.append(x)\n",
    "    \n",
    "    print(list1)"
   ]
  },
  {
   "cell_type": "markdown",
   "metadata": {},
   "source": [
    "#Extending a list"
   ]
  },
  {
   "cell_type": "code",
   "execution_count": 37,
   "metadata": {},
   "outputs": [
    {
     "name": "stdout",
     "output_type": "stream",
     "text": [
      "['Dad', 'Mom', 'Sister', 'Me']\n"
     ]
    }
   ],
   "source": [
    "list1 = [\"Dad\", \"Mom\", \"Sister\"]\n",
    "list2 = [\"Me\"]\n",
    "\n",
    "list1.extend(list2)\n",
    "print(list1)"
   ]
  },
  {
   "cell_type": "markdown",
   "metadata": {},
   "source": [
    "# DICTIONARY"
   ]
  },
  {
   "cell_type": "markdown",
   "metadata": {},
   "source": [
    "#Dictionary clear() method"
   ]
  },
  {
   "cell_type": "code",
   "execution_count": 1,
   "metadata": {},
   "outputs": [
    {
     "name": "stdout",
     "output_type": "stream",
     "text": [
      "{}\n"
     ]
    }
   ],
   "source": [
    "frnd={\"ram\":\"good\",\n",
    "     \"ragu\":\"not bad\",\n",
    "     \"rahul\":\"bad\"}\n",
    "frnd.clear()\n",
    "print(frnd)"
   ]
  },
  {
   "cell_type": "code",
   "execution_count": 2,
   "metadata": {
    "scrolled": true
   },
   "outputs": [
    {
     "name": "stdout",
     "output_type": "stream",
     "text": [
      "{'ram': 'good', 'ragu': 'not bad', 'rahul': 'bad'}\n"
     ]
    }
   ],
   "source": [
    "frnd={\"ram\":\"good\",\n",
    "     \"ragu\":\"not bad\",\n",
    "     \"rahul\":\"bad\"}\n",
    "print(frnd)"
   ]
  },
  {
   "cell_type": "markdown",
   "metadata": {},
   "source": [
    "#Dictionary copy() method"
   ]
  },
  {
   "cell_type": "code",
   "execution_count": 3,
   "metadata": {},
   "outputs": [
    {
     "name": "stdout",
     "output_type": "stream",
     "text": [
      "{'ram': 'good', 'ragu': 'not bad', 'rahul': 'bad'}\n"
     ]
    }
   ],
   "source": [
    "frnd={\"ram\":\"good\",\n",
    "     \"ragu\":\"not bad\",\n",
    "     \"rahul\":\"bad\"}\n",
    "frnd.copy()\n",
    "print(frnd)"
   ]
  },
  {
   "cell_type": "markdown",
   "metadata": {},
   "source": [
    "#Dictionary fromkeys()"
   ]
  },
  {
   "cell_type": "code",
   "execution_count": 10,
   "metadata": {},
   "outputs": [
    {
     "name": "stdout",
     "output_type": "stream",
     "text": [
      "{'1': 0, '2': 0, '3': 0}\n"
     ]
    }
   ],
   "source": [
    "a=('1','2','3')\n",
    "b=0\n",
    "mydict=dict.fromkeys(a, b)\n",
    "print(mydict)"
   ]
  },
  {
   "cell_type": "markdown",
   "metadata": {},
   "source": [
    "#Dictionary fromkeys()"
   ]
  },
  {
   "cell_type": "code",
   "execution_count": 11,
   "metadata": {},
   "outputs": [
    {
     "name": "stdout",
     "output_type": "stream",
     "text": [
      "{'1': None, '2': None, '3': None}\n"
     ]
    }
   ],
   "source": [
    "a=('1','2','3')\n",
    "mydict = dict.fromkeys(a)\n",
    "print(mydict)"
   ]
  },
  {
   "cell_type": "markdown",
   "metadata": {},
   "source": [
    "#Dictionary get() method"
   ]
  },
  {
   "cell_type": "code",
   "execution_count": 14,
   "metadata": {},
   "outputs": [
    {
     "name": "stdout",
     "output_type": "stream",
     "text": [
      "good\n"
     ]
    }
   ],
   "source": [
    "frnd={\"ram\":\"good\",\n",
    "     \"ragu\":\"not bad\",\n",
    "     \"rahul\":\"bad\"}\n",
    "a=frnd.get(\"ram\")\n",
    "print(a)"
   ]
  },
  {
   "cell_type": "markdown",
   "metadata": {},
   "source": [
    "#Dictionary items() method"
   ]
  },
  {
   "cell_type": "code",
   "execution_count": 15,
   "metadata": {},
   "outputs": [
    {
     "name": "stdout",
     "output_type": "stream",
     "text": [
      "dict_items([('ram', 'good'), ('ragu', 'not bad'), ('rahul', 'bad')])\n"
     ]
    }
   ],
   "source": [
    "frnd={\"ram\":\"good\",\n",
    "     \"ragu\":\"not bad\",\n",
    "     \"rahul\":\"bad\"}\n",
    "a=frnd.items()\n",
    "print(a)"
   ]
  },
  {
   "cell_type": "markdown",
   "metadata": {},
   "source": [
    "#Dictionary keys() method"
   ]
  },
  {
   "cell_type": "code",
   "execution_count": 16,
   "metadata": {},
   "outputs": [
    {
     "name": "stdout",
     "output_type": "stream",
     "text": [
      "dict_keys(['ram', 'ragu', 'rahul', 'good'])\n"
     ]
    }
   ],
   "source": [
    "frnd={\"ram\":\"good\",\n",
    "     \"ragu\":\"not bad\",\n",
    "     \"rahul\":\"bad\"}\n",
    "a=frnd.keys()\n",
    "frnd[\"good\"]=\"best\"\n",
    "print(a)"
   ]
  },
  {
   "cell_type": "markdown",
   "metadata": {},
   "source": [
    "#Dictionary pop() method"
   ]
  },
  {
   "cell_type": "code",
   "execution_count": 17,
   "metadata": {},
   "outputs": [
    {
     "name": "stdout",
     "output_type": "stream",
     "text": [
      "{'ram': 'good', 'rahul': 'bad'}\n"
     ]
    }
   ],
   "source": [
    "frnd={\"ram\":\"good\",\n",
    "     \"ragu\":\"not bad\",\n",
    "     \"rahul\":\"bad\"}\n",
    "frnd.pop(\"ragu\")\n",
    "print(frnd)"
   ]
  },
  {
   "cell_type": "code",
   "execution_count": 18,
   "metadata": {},
   "outputs": [
    {
     "name": "stdout",
     "output_type": "stream",
     "text": [
      "good\n"
     ]
    }
   ],
   "source": [
    "frnd={\"ram\":\"good\",\n",
    "     \"ragu\":\"not bad\",\n",
    "     \"rahul\":\"bad\"}\n",
    "a=frnd.pop(\"ram\")\n",
    "print(a)"
   ]
  },
  {
   "cell_type": "markdown",
   "metadata": {},
   "source": [
    "#Dictionary popitem() method"
   ]
  },
  {
   "cell_type": "code",
   "execution_count": 21,
   "metadata": {},
   "outputs": [
    {
     "name": "stdout",
     "output_type": "stream",
     "text": [
      "{'ram': 'good', 'ragu': 'not bad'}\n"
     ]
    }
   ],
   "source": [
    "frnd={\"ram\":\"good\",\n",
    "     \"ragu\":\"not bad\",\n",
    "     \"rahul\":\"bad\"}\n",
    "frnd.popitem()\n",
    "print(frnd)"
   ]
  },
  {
   "cell_type": "code",
   "execution_count": 22,
   "metadata": {},
   "outputs": [
    {
     "name": "stdout",
     "output_type": "stream",
     "text": [
      "('rahul', 'bad')\n"
     ]
    }
   ],
   "source": [
    "frnd={\"ram\":\"good\",\n",
    "     \"ragu\":\"not bad\",\n",
    "     \"rahul\":\"bad\"}\n",
    "a=frnd.popitem()\n",
    "print(a)"
   ]
  },
  {
   "cell_type": "markdown",
   "metadata": {},
   "source": [
    "#Dictionary setdefault() method"
   ]
  },
  {
   "cell_type": "code",
   "execution_count": 24,
   "metadata": {},
   "outputs": [
    {
     "name": "stdout",
     "output_type": "stream",
     "text": [
      "bad\n"
     ]
    }
   ],
   "source": [
    "frnd={\"ram\":\"good\",\n",
    "     \"ragu\":\"not bad\",\n",
    "     \"rahul\":\"bad\"}\n",
    "a=frnd.setdefault(\"rahul\",\"Radha\")\n",
    "print(a)"
   ]
  },
  {
   "cell_type": "code",
   "execution_count": 25,
   "metadata": {},
   "outputs": [
    {
     "name": "stdout",
     "output_type": "stream",
     "text": [
      "good\n"
     ]
    }
   ],
   "source": [
    "frnd={\"ram\":\"good\",\n",
    "     \"ragu\":\"not bad\",\n",
    "     \"rahul\":\"bad\"}\n",
    "a=frnd.setdefault(\"character\",\"good\")\n",
    "print(a)"
   ]
  },
  {
   "cell_type": "markdown",
   "metadata": {},
   "source": [
    "#Dictionary update() method"
   ]
  },
  {
   "cell_type": "code",
   "execution_count": 27,
   "metadata": {},
   "outputs": [
    {
     "name": "stdout",
     "output_type": "stream",
     "text": [
      "{'ram': 'good', 'ragu': 'not bad', 'rahul': 'bad', 'radha': 'very worst'}\n"
     ]
    }
   ],
   "source": [
    "frnd={\"ram\":\"good\",\n",
    "     \"ragu\":\"not bad\",\n",
    "     \"rahul\":\"bad\"}\n",
    "frnd.update({\"radha\":\"very worst\"})\n",
    "print(frnd)"
   ]
  },
  {
   "cell_type": "markdown",
   "metadata": {},
   "source": [
    "#Dictionary values() method"
   ]
  },
  {
   "cell_type": "code",
   "execution_count": 28,
   "metadata": {},
   "outputs": [
    {
     "name": "stdout",
     "output_type": "stream",
     "text": [
      "dict_values(['good', 'not bad', 'bad'])\n"
     ]
    }
   ],
   "source": [
    "frnd={\"ram\":\"good\",\n",
    "     \"ragu\":\"not bad\",\n",
    "     \"rahul\":\"bad\"}\n",
    "a=frnd.values()\n",
    "print(a)"
   ]
  },
  {
   "cell_type": "code",
   "execution_count": 31,
   "metadata": {},
   "outputs": [
    {
     "name": "stdout",
     "output_type": "stream",
     "text": [
      "dict_values(['good', 'not bad', 'better'])\n"
     ]
    }
   ],
   "source": [
    "frnd={\"ram\":\"good\",\n",
    "     \"ragu\":\"not bad\",\n",
    "     \"rahul\":\"bad\"}\n",
    "a=frnd.values()\n",
    "frnd[\"rahul\"]= \"better\"\n",
    "print(a)"
   ]
  },
  {
   "cell_type": "markdown",
   "metadata": {},
   "source": [
    "# SET"
   ]
  },
  {
   "cell_type": "markdown",
   "metadata": {},
   "source": [
    "#Sets add() method"
   ]
  },
  {
   "cell_type": "code",
   "execution_count": 1,
   "metadata": {},
   "outputs": [
    {
     "name": "stdout",
     "output_type": "stream",
     "text": [
      "{'four', 'two', 'one', 'three'}\n"
     ]
    }
   ],
   "source": [
    "list={'one','two','three'}\n",
    "list.add('four')\n",
    "print(list)"
   ]
  },
  {
   "cell_type": "markdown",
   "metadata": {},
   "source": [
    "#Sets clear() method"
   ]
  },
  {
   "cell_type": "code",
   "execution_count": 5,
   "metadata": {},
   "outputs": [
    {
     "name": "stdout",
     "output_type": "stream",
     "text": [
      "set()\n"
     ]
    }
   ],
   "source": [
    "list={'one','two','three'}\n",
    "list.clear()\n",
    "print(list)"
   ]
  },
  {
   "cell_type": "markdown",
   "metadata": {},
   "source": [
    "#Sets copy() method"
   ]
  },
  {
   "cell_type": "code",
   "execution_count": 7,
   "metadata": {},
   "outputs": [
    {
     "name": "stdout",
     "output_type": "stream",
     "text": [
      "{'two', 'one', 'three'}\n"
     ]
    }
   ],
   "source": [
    "list={\"one\",\"two\",\"three\"}\n",
    "a=list.copy()\n",
    "print(a)"
   ]
  },
  {
   "cell_type": "markdown",
   "metadata": {},
   "source": [
    "#Sets difference() method"
   ]
  },
  {
   "cell_type": "code",
   "execution_count": 9,
   "metadata": {},
   "outputs": [
    {
     "name": "stdout",
     "output_type": "stream",
     "text": [
      "{'one', 'three'}\n"
     ]
    }
   ],
   "source": [
    "list1={'one','two','three'}\n",
    "list2={'1','two','3'}\n",
    "list3=list1.difference(list2)\n",
    "print(list3)"
   ]
  },
  {
   "cell_type": "markdown",
   "metadata": {},
   "source": [
    "#Sets difference() method"
   ]
  },
  {
   "cell_type": "code",
   "execution_count": 14,
   "metadata": {},
   "outputs": [
    {
     "name": "stdout",
     "output_type": "stream",
     "text": [
      "{'1', '3'}\n"
     ]
    }
   ],
   "source": [
    "list1 = {'one','two','three'}\n",
    "list2 = {'1','two','3'}\n",
    "list3 = list2 .difference(list1)\n",
    "print(list3)"
   ]
  },
  {
   "cell_type": "markdown",
   "metadata": {},
   "source": [
    "#Sets difference_update() method"
   ]
  },
  {
   "cell_type": "code",
   "execution_count": 18,
   "metadata": {},
   "outputs": [
    {
     "name": "stdout",
     "output_type": "stream",
     "text": [
      "{'two', 'one'}\n"
     ]
    }
   ],
   "source": [
    "list1={'one','two','three'}\n",
    "list2={'1','2','three'}\n",
    "list1.difference_update(list2)\n",
    "print(list1)"
   ]
  },
  {
   "cell_type": "markdown",
   "metadata": {},
   "source": [
    "#Sets discard() method"
   ]
  },
  {
   "cell_type": "code",
   "execution_count": 19,
   "metadata": {},
   "outputs": [
    {
     "name": "stdout",
     "output_type": "stream",
     "text": [
      "{'one', 'three'}\n"
     ]
    }
   ],
   "source": [
    "list={'one','two','three'}\n",
    "list.discard('two')\n",
    "print(list)"
   ]
  },
  {
   "cell_type": "markdown",
   "metadata": {},
   "source": [
    "#Sets intersection() method"
   ]
  },
  {
   "cell_type": "code",
   "execution_count": 20,
   "metadata": {},
   "outputs": [
    {
     "name": "stdout",
     "output_type": "stream",
     "text": [
      "{'three'}\n"
     ]
    }
   ],
   "source": [
    "list1={'one','two','three'}\n",
    "list2={'1','2','three'}\n",
    "list3=list1.intersection(list2)\n",
    "print(list3)"
   ]
  },
  {
   "cell_type": "markdown",
   "metadata": {},
   "source": [
    "#Sets setintersection() method"
   ]
  },
  {
   "cell_type": "code",
   "execution_count": 21,
   "metadata": {},
   "outputs": [
    {
     "name": "stdout",
     "output_type": "stream",
     "text": [
      "{'one'}\n"
     ]
    }
   ],
   "source": [
    "list1={'one','two','three'}\n",
    "list2={'one','2','3'}\n",
    "list3={'one','2','three'}\n",
    "result=list1.intersection(list2,list3)\n",
    "print(result)"
   ]
  },
  {
   "cell_type": "markdown",
   "metadata": {},
   "source": [
    "#Sets setintersection_update() method"
   ]
  },
  {
   "cell_type": "code",
   "execution_count": 22,
   "metadata": {},
   "outputs": [
    {
     "name": "stdout",
     "output_type": "stream",
     "text": [
      "{'three'}\n"
     ]
    }
   ],
   "source": [
    "list1={'one','two','three'}\n",
    "list2={'1','2','three'}\n",
    "list1.intersection_update(list2)\n",
    "print(list1)"
   ]
  },
  {
   "cell_type": "code",
   "execution_count": 23,
   "metadata": {},
   "outputs": [
    {
     "name": "stdout",
     "output_type": "stream",
     "text": [
      "{'one'}\n"
     ]
    }
   ],
   "source": [
    "list1={'one','two','three'}\n",
    "list2={'one','2','3'}\n",
    "list3={'one','2','three'}\n",
    "list1.intersection_update(list2,list3)\n",
    "print(list1)"
   ]
  },
  {
   "cell_type": "markdown",
   "metadata": {},
   "source": [
    "#Sets set isdisjoint() method"
   ]
  },
  {
   "cell_type": "code",
   "execution_count": 24,
   "metadata": {},
   "outputs": [
    {
     "name": "stdout",
     "output_type": "stream",
     "text": [
      "True\n"
     ]
    }
   ],
   "source": [
    "list1={'one','two','three'}\n",
    "list2={'1','2','3'}\n",
    "list3=list1.isdisjoint(list2)\n",
    "print(list3)"
   ]
  },
  {
   "cell_type": "code",
   "execution_count": 25,
   "metadata": {},
   "outputs": [
    {
     "name": "stdout",
     "output_type": "stream",
     "text": [
      "False\n"
     ]
    }
   ],
   "source": [
    "list1={'one','two','three'}\n",
    "list2={'1','2','three'}\n",
    "list3=list1.isdisjoint(list2)\n",
    "print(list3)"
   ]
  },
  {
   "cell_type": "markdown",
   "metadata": {},
   "source": [
    "#Sets set issubset() method"
   ]
  },
  {
   "cell_type": "code",
   "execution_count": 26,
   "metadata": {},
   "outputs": [
    {
     "name": "stdout",
     "output_type": "stream",
     "text": [
      "False\n"
     ]
    }
   ],
   "source": [
    "list1={'one','two','three'}\n",
    "list2={'1','2','3'}\n",
    "list3=list1.issubset(list2)\n",
    "print(list3)"
   ]
  },
  {
   "cell_type": "markdown",
   "metadata": {},
   "source": [
    "#Sets set issubset() method"
   ]
  },
  {
   "cell_type": "code",
   "execution_count": 29,
   "metadata": {},
   "outputs": [
    {
     "name": "stdout",
     "output_type": "stream",
     "text": [
      "True\n"
     ]
    }
   ],
   "source": [
    "list1={'one','two','three'}\n",
    "list2={'one','two','three','four'}\n",
    "list3=list1.issubset(list2)\n",
    "print(list3)"
   ]
  },
  {
   "cell_type": "markdown",
   "metadata": {},
   "source": [
    "#Sets set issuperset() method"
   ]
  },
  {
   "cell_type": "code",
   "execution_count": 30,
   "metadata": {},
   "outputs": [
    {
     "name": "stdout",
     "output_type": "stream",
     "text": [
      "True\n"
     ]
    }
   ],
   "source": [
    "list1={'one','two','three','four'}\n",
    "list2={'one','two','three'}\n",
    "list3=list1.issuperset(list2)\n",
    "print(list3)"
   ]
  },
  {
   "cell_type": "markdown",
   "metadata": {},
   "source": [
    "#Sets set issuperset() method"
   ]
  },
  {
   "cell_type": "code",
   "execution_count": 31,
   "metadata": {},
   "outputs": [
    {
     "name": "stdout",
     "output_type": "stream",
     "text": [
      "False\n"
     ]
    }
   ],
   "source": [
    "list1={'one','two','three'}\n",
    "list2={'1','2','3'}\n",
    "list3=list1.issuperset(list2)\n",
    "print(list3)"
   ]
  },
  {
   "cell_type": "markdown",
   "metadata": {},
   "source": [
    "#Sets pop() method"
   ]
  },
  {
   "cell_type": "code",
   "execution_count": 35,
   "metadata": {},
   "outputs": [
    {
     "name": "stdout",
     "output_type": "stream",
     "text": [
      "{'one', 'three'}\n"
     ]
    }
   ],
   "source": [
    "list={'one','two','three'}\n",
    "list.pop()\n",
    "print(list)\n",
    "#it removes randomly from the set"
   ]
  },
  {
   "cell_type": "markdown",
   "metadata": {},
   "source": [
    "#Sets pop() method\n"
   ]
  },
  {
   "cell_type": "code",
   "execution_count": 36,
   "metadata": {},
   "outputs": [
    {
     "name": "stdout",
     "output_type": "stream",
     "text": [
      "{'one', 'three'}\n"
     ]
    }
   ],
   "source": [
    "list={'one','two','three'}\n",
    "list.remove('two')\n",
    "print(list)"
   ]
  },
  {
   "cell_type": "markdown",
   "metadata": {},
   "source": [
    "#Sets symmetric_difference() method"
   ]
  },
  {
   "cell_type": "code",
   "execution_count": 40,
   "metadata": {},
   "outputs": [
    {
     "name": "stdout",
     "output_type": "stream",
     "text": [
      "{'1', 'one', 'three', '3'}\n"
     ]
    }
   ],
   "source": [
    "list1={'one','two','three'}\n",
    "list2={'1','two','3'}\n",
    "list3=list1.symmetric_difference(list2)\n",
    "print(list3)"
   ]
  },
  {
   "cell_type": "markdown",
   "metadata": {},
   "source": [
    "#Sets symmetric_difference_update() method"
   ]
  },
  {
   "cell_type": "code",
   "execution_count": 43,
   "metadata": {},
   "outputs": [
    {
     "name": "stdout",
     "output_type": "stream",
     "text": [
      "{'1', 'one'}\n"
     ]
    }
   ],
   "source": [
    "list1={'one','two','three'}\n",
    "list2={'1','two','three'}\n",
    "list1.symmetric_difference_update(list2)\n",
    "print(list1)"
   ]
  },
  {
   "cell_type": "markdown",
   "metadata": {},
   "source": [
    "#Sets union() method"
   ]
  },
  {
   "cell_type": "code",
   "execution_count": 44,
   "metadata": {},
   "outputs": [
    {
     "name": "stdout",
     "output_type": "stream",
     "text": [
      "{'1', 'one', 'three', 'two', '3'}\n"
     ]
    }
   ],
   "source": [
    "list1={'one','two','three'}\n",
    "list2={'1','two','3'}\n",
    "list3=list1.union(list2)\n",
    "print(list3)"
   ]
  },
  {
   "cell_type": "code",
   "execution_count": 45,
   "metadata": {},
   "outputs": [
    {
     "name": "stdout",
     "output_type": "stream",
     "text": [
      "{'1', 'one', 'three', '2', 'two', '3'}\n"
     ]
    }
   ],
   "source": [
    "list1={'one','two','three'}\n",
    "list2={'1','two','3'}\n",
    "list3={'one','2','three'}\n",
    "result=list1.union(list2,list3)\n",
    "print(result)"
   ]
  },
  {
   "cell_type": "markdown",
   "metadata": {},
   "source": [
    "#Sets update() method"
   ]
  },
  {
   "cell_type": "code",
   "execution_count": 46,
   "metadata": {},
   "outputs": [
    {
     "name": "stdout",
     "output_type": "stream",
     "text": [
      "{'1', 'one', 'three', '2', 'two'}\n"
     ]
    }
   ],
   "source": [
    "list1={'one','two','three'}\n",
    "list2={'1','2','three'}\n",
    "list1.update(list2)\n",
    "print(list1)"
   ]
  }
 ],
 "metadata": {
  "kernelspec": {
   "display_name": "Python 3",
   "language": "python",
   "name": "python3"
  },
  "language_info": {
   "codemirror_mode": {
    "name": "ipython",
    "version": 3
   },
   "file_extension": ".py",
   "mimetype": "text/x-python",
   "name": "python",
   "nbconvert_exporter": "python",
   "pygments_lexer": "ipython3",
   "version": "3.7.6"
  }
 },
 "nbformat": 4,
 "nbformat_minor": 4
}
